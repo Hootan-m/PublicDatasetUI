{
 "cells": [
  {
   "cell_type": "code",
   "execution_count": 2,
   "id": "bd0ade37",
   "metadata": {
    "execution": {
     "iopub.execute_input": "2022-08-30T13:01:41.640530Z",
     "iopub.status.busy": "2022-08-30T13:01:41.639513Z",
     "iopub.status.idle": "2022-08-30T13:01:42.777696Z",
     "shell.execute_reply": "2022-08-30T13:01:42.776521Z"
    },
    "id": "afbd23c6",
    "papermill": {
     "duration": 1.153848,
     "end_time": "2022-08-30T13:01:42.780664",
     "exception": false,
     "start_time": "2022-08-30T13:01:41.626816",
     "status": "completed"
    },
    "tags": []
   },
   "outputs": [],
   "source": [
    "# importing libraries\n",
    "import numpy as np\n",
    "import pandas as pd\n",
    "import matplotlib.pyplot as plt\n",
    "import seaborn as sns\n",
    "\n",
    "%matplotlib inline\n",
    "import warnings\n",
    "warnings.filterwarnings('ignore')"
   ]
  },
  {
   "cell_type": "code",
   "execution_count": 3,
   "id": "57ed6a0b",
   "metadata": {
    "execution": {
     "iopub.execute_input": "2022-08-30T13:01:42.808429Z",
     "iopub.status.busy": "2022-08-30T13:01:42.807596Z",
     "iopub.status.idle": "2022-08-30T13:01:42.827126Z",
     "shell.execute_reply": "2022-08-30T13:01:42.825763Z"
    },
    "id": "46f44981",
    "papermill": {
     "duration": 0.038202,
     "end_time": "2022-08-30T13:01:42.830022",
     "exception": false,
     "start_time": "2022-08-30T13:01:42.791820",
     "status": "completed"
    },
    "tags": []
   },
   "outputs": [],
   "source": [
    "# reading the csv file into a dataframe\n",
    "tfr_data=pd.read_csv('Health index2.csv')"
   ]
  },
  {
   "cell_type": "code",
   "execution_count": 4,
   "id": "40dcc55c",
   "metadata": {
    "execution": {
     "iopub.execute_input": "2022-08-30T13:01:42.856865Z",
     "iopub.status.busy": "2022-08-30T13:01:42.856461Z",
     "iopub.status.idle": "2022-08-30T13:01:42.881778Z",
     "shell.execute_reply": "2022-08-30T13:01:42.880616Z"
    },
    "id": "dcc8f4a6",
    "outputId": "b5f6a888-4af2-49db-99dc-b3066a1d2283",
    "papermill": {
     "duration": 0.041327,
     "end_time": "2022-08-30T13:01:42.884360",
     "exception": false,
     "start_time": "2022-08-30T13:01:42.843033",
     "status": "completed"
    },
    "tags": []
   },
   "outputs": [
    {
     "data": {
      "text/html": [
       "<div>\n",
       "<style scoped>\n",
       "    .dataframe tbody tr th:only-of-type {\n",
       "        vertical-align: middle;\n",
       "    }\n",
       "\n",
       "    .dataframe tbody tr th {\n",
       "        vertical-align: top;\n",
       "    }\n",
       "\n",
       "    .dataframe thead th {\n",
       "        text-align: right;\n",
       "    }\n",
       "</style>\n",
       "<table border=\"1\" class=\"dataframe\">\n",
       "  <thead>\n",
       "    <tr style=\"text-align: right;\">\n",
       "      <th></th>\n",
       "      <th>Hydrogen</th>\n",
       "      <th>Oxigen</th>\n",
       "      <th>Nitrogen</th>\n",
       "      <th>Methane</th>\n",
       "      <th>CO</th>\n",
       "      <th>CO2</th>\n",
       "      <th>Ethylene</th>\n",
       "      <th>Ethane</th>\n",
       "      <th>Acethylene</th>\n",
       "      <th>DBDS</th>\n",
       "      <th>Power factor</th>\n",
       "      <th>Interfacial V</th>\n",
       "      <th>Dielectric rigidity</th>\n",
       "      <th>Water content</th>\n",
       "      <th>Health index</th>\n",
       "    </tr>\n",
       "  </thead>\n",
       "  <tbody>\n",
       "    <tr>\n",
       "      <th>0</th>\n",
       "      <td>2845</td>\n",
       "      <td>5860</td>\n",
       "      <td>27842</td>\n",
       "      <td>7406</td>\n",
       "      <td>32</td>\n",
       "      <td>1344</td>\n",
       "      <td>16684</td>\n",
       "      <td>5467</td>\n",
       "      <td>7</td>\n",
       "      <td>19.0</td>\n",
       "      <td>1.00</td>\n",
       "      <td>45</td>\n",
       "      <td>55</td>\n",
       "      <td>0</td>\n",
       "      <td>95.2</td>\n",
       "    </tr>\n",
       "    <tr>\n",
       "      <th>1</th>\n",
       "      <td>12886</td>\n",
       "      <td>61</td>\n",
       "      <td>25041</td>\n",
       "      <td>877</td>\n",
       "      <td>83</td>\n",
       "      <td>864</td>\n",
       "      <td>4</td>\n",
       "      <td>305</td>\n",
       "      <td>0</td>\n",
       "      <td>45.0</td>\n",
       "      <td>1.00</td>\n",
       "      <td>45</td>\n",
       "      <td>55</td>\n",
       "      <td>0</td>\n",
       "      <td>85.5</td>\n",
       "    </tr>\n",
       "    <tr>\n",
       "      <th>2</th>\n",
       "      <td>2820</td>\n",
       "      <td>16400</td>\n",
       "      <td>56300</td>\n",
       "      <td>144</td>\n",
       "      <td>257</td>\n",
       "      <td>1080</td>\n",
       "      <td>206</td>\n",
       "      <td>11</td>\n",
       "      <td>2190</td>\n",
       "      <td>1.0</td>\n",
       "      <td>1.00</td>\n",
       "      <td>39</td>\n",
       "      <td>52</td>\n",
       "      <td>11</td>\n",
       "      <td>85.3</td>\n",
       "    </tr>\n",
       "    <tr>\n",
       "      <th>3</th>\n",
       "      <td>1099</td>\n",
       "      <td>70</td>\n",
       "      <td>37520</td>\n",
       "      <td>545</td>\n",
       "      <td>184</td>\n",
       "      <td>1402</td>\n",
       "      <td>6</td>\n",
       "      <td>230</td>\n",
       "      <td>0</td>\n",
       "      <td>87.0</td>\n",
       "      <td>4.58</td>\n",
       "      <td>33</td>\n",
       "      <td>49</td>\n",
       "      <td>5</td>\n",
       "      <td>85.3</td>\n",
       "    </tr>\n",
       "    <tr>\n",
       "      <th>4</th>\n",
       "      <td>3210</td>\n",
       "      <td>3570</td>\n",
       "      <td>47900</td>\n",
       "      <td>160</td>\n",
       "      <td>360</td>\n",
       "      <td>2130</td>\n",
       "      <td>4</td>\n",
       "      <td>43</td>\n",
       "      <td>4</td>\n",
       "      <td>1.0</td>\n",
       "      <td>0.77</td>\n",
       "      <td>44</td>\n",
       "      <td>55</td>\n",
       "      <td>3</td>\n",
       "      <td>85.2</td>\n",
       "    </tr>\n",
       "  </tbody>\n",
       "</table>\n",
       "</div>"
      ],
      "text/plain": [
       "   Hydrogen  Oxigen  Nitrogen  Methane   CO   CO2  Ethylene  Ethane  \\\n",
       "0      2845    5860     27842     7406   32  1344     16684    5467   \n",
       "1     12886      61     25041      877   83   864         4     305   \n",
       "2      2820   16400     56300      144  257  1080       206      11   \n",
       "3      1099      70     37520      545  184  1402         6     230   \n",
       "4      3210    3570     47900      160  360  2130         4      43   \n",
       "\n",
       "   Acethylene  DBDS  Power factor  Interfacial V  Dielectric rigidity  \\\n",
       "0           7  19.0          1.00             45                   55   \n",
       "1           0  45.0          1.00             45                   55   \n",
       "2        2190   1.0          1.00             39                   52   \n",
       "3           0  87.0          4.58             33                   49   \n",
       "4           4   1.0          0.77             44                   55   \n",
       "\n",
       "   Water content  Health index  \n",
       "0              0          95.2  \n",
       "1              0          85.5  \n",
       "2             11          85.3  \n",
       "3              5          85.3  \n",
       "4              3          85.2  "
      ]
     },
     "execution_count": 4,
     "metadata": {},
     "output_type": "execute_result"
    }
   ],
   "source": [
    "#extracting the first 5 columns of the dataframe\n",
    "tfr_data.head(5)"
   ]
  },
  {
   "cell_type": "code",
   "execution_count": 5,
   "id": "fa1388d2",
   "metadata": {
    "execution": {
     "iopub.execute_input": "2022-08-30T13:01:42.908957Z",
     "iopub.status.busy": "2022-08-30T13:01:42.908165Z",
     "iopub.status.idle": "2022-08-30T13:01:42.915092Z",
     "shell.execute_reply": "2022-08-30T13:01:42.913537Z"
    },
    "id": "fa95434a",
    "outputId": "1cf8b005-0040-4aca-972b-b83190512fce",
    "papermill": {
     "duration": 0.021794,
     "end_time": "2022-08-30T13:01:42.917527",
     "exception": false,
     "start_time": "2022-08-30T13:01:42.895733",
     "status": "completed"
    },
    "tags": []
   },
   "outputs": [
    {
     "name": "stdout",
     "output_type": "stream",
     "text": [
      "The dataset has 470 rows and 15 columns\n"
     ]
    }
   ],
   "source": [
    "print(f'The dataset has {tfr_data.shape[0]} rows and {tfr_data.shape[1]} columns')"
   ]
  },
  {
   "cell_type": "code",
   "execution_count": 6,
   "id": "2fa22065",
   "metadata": {
    "execution": {
     "iopub.execute_input": "2022-08-30T13:01:42.941867Z",
     "iopub.status.busy": "2022-08-30T13:01:42.941463Z",
     "iopub.status.idle": "2022-08-30T13:01:42.952033Z",
     "shell.execute_reply": "2022-08-30T13:01:42.950926Z"
    },
    "id": "8a056f6c",
    "papermill": {
     "duration": 0.025395,
     "end_time": "2022-08-30T13:01:42.954231",
     "exception": false,
     "start_time": "2022-08-30T13:01:42.928836",
     "status": "completed"
    },
    "tags": []
   },
   "outputs": [],
   "source": [
    "Condition = []\n",
    "for row in tfr_data['Health index']:\n",
    "    if row > 20 and row <=100:\n",
    "        Condition.append('Not-failed')\n",
    "    elif row >= 0 and row <=20:\n",
    "        Condition.append('failed')\n",
    "    else:\n",
    "        Condition.append(Nan)"
   ]
  },
  {
   "cell_type": "code",
   "execution_count": 7,
   "id": "d1f38542",
   "metadata": {
    "execution": {
     "iopub.execute_input": "2022-08-30T13:01:42.978864Z",
     "iopub.status.busy": "2022-08-30T13:01:42.978125Z",
     "iopub.status.idle": "2022-08-30T13:01:42.984435Z",
     "shell.execute_reply": "2022-08-30T13:01:42.983292Z"
    },
    "id": "6747a443",
    "papermill": {
     "duration": 0.021082,
     "end_time": "2022-08-30T13:01:42.986690",
     "exception": false,
     "start_time": "2022-08-30T13:01:42.965608",
     "status": "completed"
    },
    "tags": []
   },
   "outputs": [],
   "source": [
    "tfr_data['Condition'] = Condition"
   ]
  },
  {
   "cell_type": "code",
   "execution_count": 8,
   "id": "792b1642",
   "metadata": {
    "execution": {
     "iopub.execute_input": "2022-08-30T13:01:43.011579Z",
     "iopub.status.busy": "2022-08-30T13:01:43.010946Z",
     "iopub.status.idle": "2022-08-30T13:01:43.027848Z",
     "shell.execute_reply": "2022-08-30T13:01:43.027053Z"
    },
    "id": "6b6d6aa9",
    "outputId": "a90b97b7-e9a6-4584-9daf-0ea0d023bb36",
    "papermill": {
     "duration": 0.031695,
     "end_time": "2022-08-30T13:01:43.029805",
     "exception": false,
     "start_time": "2022-08-30T13:01:42.998110",
     "status": "completed"
    },
    "tags": []
   },
   "outputs": [
    {
     "data": {
      "text/html": [
       "<div>\n",
       "<style scoped>\n",
       "    .dataframe tbody tr th:only-of-type {\n",
       "        vertical-align: middle;\n",
       "    }\n",
       "\n",
       "    .dataframe tbody tr th {\n",
       "        vertical-align: top;\n",
       "    }\n",
       "\n",
       "    .dataframe thead th {\n",
       "        text-align: right;\n",
       "    }\n",
       "</style>\n",
       "<table border=\"1\" class=\"dataframe\">\n",
       "  <thead>\n",
       "    <tr style=\"text-align: right;\">\n",
       "      <th></th>\n",
       "      <th>Hydrogen</th>\n",
       "      <th>Oxigen</th>\n",
       "      <th>Nitrogen</th>\n",
       "      <th>Methane</th>\n",
       "      <th>CO</th>\n",
       "      <th>CO2</th>\n",
       "      <th>Ethylene</th>\n",
       "      <th>Ethane</th>\n",
       "      <th>Acethylene</th>\n",
       "      <th>DBDS</th>\n",
       "      <th>Power factor</th>\n",
       "      <th>Interfacial V</th>\n",
       "      <th>Dielectric rigidity</th>\n",
       "      <th>Water content</th>\n",
       "      <th>Health index</th>\n",
       "      <th>Condition</th>\n",
       "    </tr>\n",
       "  </thead>\n",
       "  <tbody>\n",
       "    <tr>\n",
       "      <th>0</th>\n",
       "      <td>2845</td>\n",
       "      <td>5860</td>\n",
       "      <td>27842</td>\n",
       "      <td>7406</td>\n",
       "      <td>32</td>\n",
       "      <td>1344</td>\n",
       "      <td>16684</td>\n",
       "      <td>5467</td>\n",
       "      <td>7</td>\n",
       "      <td>19.0</td>\n",
       "      <td>1.00</td>\n",
       "      <td>45</td>\n",
       "      <td>55</td>\n",
       "      <td>0</td>\n",
       "      <td>95.2</td>\n",
       "      <td>Not-failed</td>\n",
       "    </tr>\n",
       "    <tr>\n",
       "      <th>1</th>\n",
       "      <td>12886</td>\n",
       "      <td>61</td>\n",
       "      <td>25041</td>\n",
       "      <td>877</td>\n",
       "      <td>83</td>\n",
       "      <td>864</td>\n",
       "      <td>4</td>\n",
       "      <td>305</td>\n",
       "      <td>0</td>\n",
       "      <td>45.0</td>\n",
       "      <td>1.00</td>\n",
       "      <td>45</td>\n",
       "      <td>55</td>\n",
       "      <td>0</td>\n",
       "      <td>85.5</td>\n",
       "      <td>Not-failed</td>\n",
       "    </tr>\n",
       "    <tr>\n",
       "      <th>2</th>\n",
       "      <td>2820</td>\n",
       "      <td>16400</td>\n",
       "      <td>56300</td>\n",
       "      <td>144</td>\n",
       "      <td>257</td>\n",
       "      <td>1080</td>\n",
       "      <td>206</td>\n",
       "      <td>11</td>\n",
       "      <td>2190</td>\n",
       "      <td>1.0</td>\n",
       "      <td>1.00</td>\n",
       "      <td>39</td>\n",
       "      <td>52</td>\n",
       "      <td>11</td>\n",
       "      <td>85.3</td>\n",
       "      <td>Not-failed</td>\n",
       "    </tr>\n",
       "    <tr>\n",
       "      <th>3</th>\n",
       "      <td>1099</td>\n",
       "      <td>70</td>\n",
       "      <td>37520</td>\n",
       "      <td>545</td>\n",
       "      <td>184</td>\n",
       "      <td>1402</td>\n",
       "      <td>6</td>\n",
       "      <td>230</td>\n",
       "      <td>0</td>\n",
       "      <td>87.0</td>\n",
       "      <td>4.58</td>\n",
       "      <td>33</td>\n",
       "      <td>49</td>\n",
       "      <td>5</td>\n",
       "      <td>85.3</td>\n",
       "      <td>Not-failed</td>\n",
       "    </tr>\n",
       "    <tr>\n",
       "      <th>4</th>\n",
       "      <td>3210</td>\n",
       "      <td>3570</td>\n",
       "      <td>47900</td>\n",
       "      <td>160</td>\n",
       "      <td>360</td>\n",
       "      <td>2130</td>\n",
       "      <td>4</td>\n",
       "      <td>43</td>\n",
       "      <td>4</td>\n",
       "      <td>1.0</td>\n",
       "      <td>0.77</td>\n",
       "      <td>44</td>\n",
       "      <td>55</td>\n",
       "      <td>3</td>\n",
       "      <td>85.2</td>\n",
       "      <td>Not-failed</td>\n",
       "    </tr>\n",
       "  </tbody>\n",
       "</table>\n",
       "</div>"
      ],
      "text/plain": [
       "   Hydrogen  Oxigen  Nitrogen  Methane   CO   CO2  Ethylene  Ethane  \\\n",
       "0      2845    5860     27842     7406   32  1344     16684    5467   \n",
       "1     12886      61     25041      877   83   864         4     305   \n",
       "2      2820   16400     56300      144  257  1080       206      11   \n",
       "3      1099      70     37520      545  184  1402         6     230   \n",
       "4      3210    3570     47900      160  360  2130         4      43   \n",
       "\n",
       "   Acethylene  DBDS  Power factor  Interfacial V  Dielectric rigidity  \\\n",
       "0           7  19.0          1.00             45                   55   \n",
       "1           0  45.0          1.00             45                   55   \n",
       "2        2190   1.0          1.00             39                   52   \n",
       "3           0  87.0          4.58             33                   49   \n",
       "4           4   1.0          0.77             44                   55   \n",
       "\n",
       "   Water content  Health index   Condition  \n",
       "0              0          95.2  Not-failed  \n",
       "1              0          85.5  Not-failed  \n",
       "2             11          85.3  Not-failed  \n",
       "3              5          85.3  Not-failed  \n",
       "4              3          85.2  Not-failed  "
      ]
     },
     "execution_count": 8,
     "metadata": {},
     "output_type": "execute_result"
    }
   ],
   "source": [
    "tfr_data.head()"
   ]
  },
  {
   "cell_type": "code",
   "execution_count": 9,
   "id": "ecf01ff0",
   "metadata": {
    "execution": {
     "iopub.execute_input": "2022-08-30T13:01:43.054765Z",
     "iopub.status.busy": "2022-08-30T13:01:43.054302Z",
     "iopub.status.idle": "2022-08-30T13:01:43.065809Z",
     "shell.execute_reply": "2022-08-30T13:01:43.064806Z"
    },
    "papermill": {
     "duration": 0.026556,
     "end_time": "2022-08-30T13:01:43.068166",
     "exception": false,
     "start_time": "2022-08-30T13:01:43.041610",
     "status": "completed"
    },
    "tags": []
   },
   "outputs": [],
   "source": [
    "tfr_data.drop(columns=['Health index'],axis=1,inplace=True)"
   ]
  },
  {
   "cell_type": "code",
   "execution_count": 10,
   "id": "45e8b56b",
   "metadata": {
    "execution": {
     "iopub.execute_input": "2022-08-30T13:01:43.094209Z",
     "iopub.status.busy": "2022-08-30T13:01:43.093807Z",
     "iopub.status.idle": "2022-08-30T13:01:43.109672Z",
     "shell.execute_reply": "2022-08-30T13:01:43.108811Z"
    },
    "papermill": {
     "duration": 0.031324,
     "end_time": "2022-08-30T13:01:43.111939",
     "exception": false,
     "start_time": "2022-08-30T13:01:43.080615",
     "status": "completed"
    },
    "tags": []
   },
   "outputs": [
    {
     "data": {
      "text/html": [
       "<div>\n",
       "<style scoped>\n",
       "    .dataframe tbody tr th:only-of-type {\n",
       "        vertical-align: middle;\n",
       "    }\n",
       "\n",
       "    .dataframe tbody tr th {\n",
       "        vertical-align: top;\n",
       "    }\n",
       "\n",
       "    .dataframe thead th {\n",
       "        text-align: right;\n",
       "    }\n",
       "</style>\n",
       "<table border=\"1\" class=\"dataframe\">\n",
       "  <thead>\n",
       "    <tr style=\"text-align: right;\">\n",
       "      <th></th>\n",
       "      <th>Hydrogen</th>\n",
       "      <th>Oxigen</th>\n",
       "      <th>Nitrogen</th>\n",
       "      <th>Methane</th>\n",
       "      <th>CO</th>\n",
       "      <th>CO2</th>\n",
       "      <th>Ethylene</th>\n",
       "      <th>Ethane</th>\n",
       "      <th>Acethylene</th>\n",
       "      <th>DBDS</th>\n",
       "      <th>Power factor</th>\n",
       "      <th>Interfacial V</th>\n",
       "      <th>Dielectric rigidity</th>\n",
       "      <th>Water content</th>\n",
       "      <th>Condition</th>\n",
       "    </tr>\n",
       "  </thead>\n",
       "  <tbody>\n",
       "    <tr>\n",
       "      <th>0</th>\n",
       "      <td>2845</td>\n",
       "      <td>5860</td>\n",
       "      <td>27842</td>\n",
       "      <td>7406</td>\n",
       "      <td>32</td>\n",
       "      <td>1344</td>\n",
       "      <td>16684</td>\n",
       "      <td>5467</td>\n",
       "      <td>7</td>\n",
       "      <td>19.0</td>\n",
       "      <td>1.00</td>\n",
       "      <td>45</td>\n",
       "      <td>55</td>\n",
       "      <td>0</td>\n",
       "      <td>Not-failed</td>\n",
       "    </tr>\n",
       "    <tr>\n",
       "      <th>1</th>\n",
       "      <td>12886</td>\n",
       "      <td>61</td>\n",
       "      <td>25041</td>\n",
       "      <td>877</td>\n",
       "      <td>83</td>\n",
       "      <td>864</td>\n",
       "      <td>4</td>\n",
       "      <td>305</td>\n",
       "      <td>0</td>\n",
       "      <td>45.0</td>\n",
       "      <td>1.00</td>\n",
       "      <td>45</td>\n",
       "      <td>55</td>\n",
       "      <td>0</td>\n",
       "      <td>Not-failed</td>\n",
       "    </tr>\n",
       "    <tr>\n",
       "      <th>2</th>\n",
       "      <td>2820</td>\n",
       "      <td>16400</td>\n",
       "      <td>56300</td>\n",
       "      <td>144</td>\n",
       "      <td>257</td>\n",
       "      <td>1080</td>\n",
       "      <td>206</td>\n",
       "      <td>11</td>\n",
       "      <td>2190</td>\n",
       "      <td>1.0</td>\n",
       "      <td>1.00</td>\n",
       "      <td>39</td>\n",
       "      <td>52</td>\n",
       "      <td>11</td>\n",
       "      <td>Not-failed</td>\n",
       "    </tr>\n",
       "    <tr>\n",
       "      <th>3</th>\n",
       "      <td>1099</td>\n",
       "      <td>70</td>\n",
       "      <td>37520</td>\n",
       "      <td>545</td>\n",
       "      <td>184</td>\n",
       "      <td>1402</td>\n",
       "      <td>6</td>\n",
       "      <td>230</td>\n",
       "      <td>0</td>\n",
       "      <td>87.0</td>\n",
       "      <td>4.58</td>\n",
       "      <td>33</td>\n",
       "      <td>49</td>\n",
       "      <td>5</td>\n",
       "      <td>Not-failed</td>\n",
       "    </tr>\n",
       "    <tr>\n",
       "      <th>4</th>\n",
       "      <td>3210</td>\n",
       "      <td>3570</td>\n",
       "      <td>47900</td>\n",
       "      <td>160</td>\n",
       "      <td>360</td>\n",
       "      <td>2130</td>\n",
       "      <td>4</td>\n",
       "      <td>43</td>\n",
       "      <td>4</td>\n",
       "      <td>1.0</td>\n",
       "      <td>0.77</td>\n",
       "      <td>44</td>\n",
       "      <td>55</td>\n",
       "      <td>3</td>\n",
       "      <td>Not-failed</td>\n",
       "    </tr>\n",
       "  </tbody>\n",
       "</table>\n",
       "</div>"
      ],
      "text/plain": [
       "   Hydrogen  Oxigen  Nitrogen  Methane   CO   CO2  Ethylene  Ethane  \\\n",
       "0      2845    5860     27842     7406   32  1344     16684    5467   \n",
       "1     12886      61     25041      877   83   864         4     305   \n",
       "2      2820   16400     56300      144  257  1080       206      11   \n",
       "3      1099      70     37520      545  184  1402         6     230   \n",
       "4      3210    3570     47900      160  360  2130         4      43   \n",
       "\n",
       "   Acethylene  DBDS  Power factor  Interfacial V  Dielectric rigidity  \\\n",
       "0           7  19.0          1.00             45                   55   \n",
       "1           0  45.0          1.00             45                   55   \n",
       "2        2190   1.0          1.00             39                   52   \n",
       "3           0  87.0          4.58             33                   49   \n",
       "4           4   1.0          0.77             44                   55   \n",
       "\n",
       "   Water content   Condition  \n",
       "0              0  Not-failed  \n",
       "1              0  Not-failed  \n",
       "2             11  Not-failed  \n",
       "3              5  Not-failed  \n",
       "4              3  Not-failed  "
      ]
     },
     "execution_count": 10,
     "metadata": {},
     "output_type": "execute_result"
    }
   ],
   "source": [
    "tfr_data.head()"
   ]
  },
  {
   "cell_type": "code",
   "execution_count": 11,
   "id": "b787f2a1",
   "metadata": {
    "execution": {
     "iopub.execute_input": "2022-08-30T13:01:43.138074Z",
     "iopub.status.busy": "2022-08-30T13:01:43.137663Z",
     "iopub.status.idle": "2022-08-30T13:01:43.148144Z",
     "shell.execute_reply": "2022-08-30T13:01:43.147215Z"
    },
    "id": "3b65c2f1",
    "outputId": "7c882835-e394-4455-9cbe-6f6bf98f59b7",
    "papermill": {
     "duration": 0.025905,
     "end_time": "2022-08-30T13:01:43.150173",
     "exception": false,
     "start_time": "2022-08-30T13:01:43.124268",
     "status": "completed"
    },
    "tags": []
   },
   "outputs": [
    {
     "data": {
      "text/plain": [
       "Condition\n",
       "failed        263\n",
       "Not-failed    207\n",
       "Name: count, dtype: int64"
      ]
     },
     "execution_count": 11,
     "metadata": {},
     "output_type": "execute_result"
    }
   ],
   "source": [
    "tfr_data['Condition'].value_counts()"
   ]
  },
  {
   "cell_type": "markdown",
   "id": "e79e90f7",
   "metadata": {
    "id": "040dc7a9",
    "papermill": {
     "duration": 0.012083,
     "end_time": "2022-08-30T13:01:43.174591",
     "exception": false,
     "start_time": "2022-08-30T13:01:43.162508",
     "status": "completed"
    },
    "tags": []
   },
   "source": [
    "# Data Preprocessing"
   ]
  },
  {
   "cell_type": "code",
   "execution_count": 12,
   "id": "2061f527",
   "metadata": {
    "execution": {
     "iopub.execute_input": "2022-08-30T13:01:43.201593Z",
     "iopub.status.busy": "2022-08-30T13:01:43.201147Z",
     "iopub.status.idle": "2022-08-30T13:01:43.209841Z",
     "shell.execute_reply": "2022-08-30T13:01:43.209049Z"
    },
    "id": "09c28ccf",
    "outputId": "280b3d1c-665f-4c7e-f296-26cd191545c4",
    "papermill": {
     "duration": 0.025259,
     "end_time": "2022-08-30T13:01:43.212100",
     "exception": false,
     "start_time": "2022-08-30T13:01:43.186841",
     "status": "completed"
    },
    "tags": []
   },
   "outputs": [
    {
     "data": {
      "text/plain": [
       "Hydrogen               0\n",
       "Oxigen                 0\n",
       "Nitrogen               0\n",
       "Methane                0\n",
       "CO                     0\n",
       "CO2                    0\n",
       "Ethylene               0\n",
       "Ethane                 0\n",
       "Acethylene             0\n",
       "DBDS                   0\n",
       "Power factor           0\n",
       "Interfacial V          0\n",
       "Dielectric rigidity    0\n",
       "Water content          0\n",
       "Condition              0\n",
       "dtype: int64"
      ]
     },
     "execution_count": 12,
     "metadata": {},
     "output_type": "execute_result"
    }
   ],
   "source": [
    "# Missing Values\n",
    "tfr_data.isnull().sum()"
   ]
  },
  {
   "cell_type": "markdown",
   "id": "a51047b9",
   "metadata": {
    "id": "5e984ce1",
    "papermill": {
     "duration": 0.012318,
     "end_time": "2022-08-30T13:01:43.237173",
     "exception": false,
     "start_time": "2022-08-30T13:01:43.224855",
     "status": "completed"
    },
    "tags": []
   },
   "source": [
    "No null values"
   ]
  },
  {
   "cell_type": "code",
   "execution_count": 13,
   "id": "33c0ffbb",
   "metadata": {
    "execution": {
     "iopub.execute_input": "2022-08-30T13:01:43.265201Z",
     "iopub.status.busy": "2022-08-30T13:01:43.264115Z",
     "iopub.status.idle": "2022-08-30T13:01:43.284171Z",
     "shell.execute_reply": "2022-08-30T13:01:43.283165Z"
    },
    "id": "5d199236",
    "outputId": "69d21850-34d5-42f4-e848-79587f95a417",
    "papermill": {
     "duration": 0.03697,
     "end_time": "2022-08-30T13:01:43.286617",
     "exception": false,
     "start_time": "2022-08-30T13:01:43.249647",
     "status": "completed"
    },
    "tags": []
   },
   "outputs": [
    {
     "name": "stdout",
     "output_type": "stream",
     "text": [
      "<class 'pandas.core.frame.DataFrame'>\n",
      "RangeIndex: 470 entries, 0 to 469\n",
      "Data columns (total 15 columns):\n",
      " #   Column               Non-Null Count  Dtype  \n",
      "---  ------               --------------  -----  \n",
      " 0   Hydrogen             470 non-null    int64  \n",
      " 1   Oxigen               470 non-null    int64  \n",
      " 2   Nitrogen             470 non-null    int64  \n",
      " 3   Methane              470 non-null    int64  \n",
      " 4   CO                   470 non-null    int64  \n",
      " 5   CO2                  470 non-null    int64  \n",
      " 6   Ethylene             470 non-null    int64  \n",
      " 7   Ethane               470 non-null    int64  \n",
      " 8   Acethylene           470 non-null    int64  \n",
      " 9   DBDS                 470 non-null    float64\n",
      " 10  Power factor         470 non-null    float64\n",
      " 11  Interfacial V        470 non-null    int64  \n",
      " 12  Dielectric rigidity  470 non-null    int64  \n",
      " 13  Water content        470 non-null    int64  \n",
      " 14  Condition            470 non-null    object \n",
      "dtypes: float64(2), int64(12), object(1)\n",
      "memory usage: 55.2+ KB\n"
     ]
    }
   ],
   "source": [
    "tfr_data.info()"
   ]
  },
  {
   "cell_type": "code",
   "execution_count": 14,
   "id": "af38c0f2",
   "metadata": {
    "execution": {
     "iopub.execute_input": "2022-08-30T13:01:43.314662Z",
     "iopub.status.busy": "2022-08-30T13:01:43.314179Z",
     "iopub.status.idle": "2022-08-30T13:01:43.368328Z",
     "shell.execute_reply": "2022-08-30T13:01:43.367090Z"
    },
    "id": "9a313ae1",
    "outputId": "f63cb054-cfa7-4b7b-afce-889eb62d40ae",
    "papermill": {
     "duration": 0.07141,
     "end_time": "2022-08-30T13:01:43.370868",
     "exception": false,
     "start_time": "2022-08-30T13:01:43.299458",
     "status": "completed"
    },
    "scrolled": true,
    "tags": []
   },
   "outputs": [
    {
     "data": {
      "text/html": [
       "<div>\n",
       "<style scoped>\n",
       "    .dataframe tbody tr th:only-of-type {\n",
       "        vertical-align: middle;\n",
       "    }\n",
       "\n",
       "    .dataframe tbody tr th {\n",
       "        vertical-align: top;\n",
       "    }\n",
       "\n",
       "    .dataframe thead th {\n",
       "        text-align: right;\n",
       "    }\n",
       "</style>\n",
       "<table border=\"1\" class=\"dataframe\">\n",
       "  <thead>\n",
       "    <tr style=\"text-align: right;\">\n",
       "      <th></th>\n",
       "      <th>Hydrogen</th>\n",
       "      <th>Oxigen</th>\n",
       "      <th>Nitrogen</th>\n",
       "      <th>Methane</th>\n",
       "      <th>CO</th>\n",
       "      <th>CO2</th>\n",
       "      <th>Ethylene</th>\n",
       "      <th>Ethane</th>\n",
       "      <th>Acethylene</th>\n",
       "      <th>DBDS</th>\n",
       "      <th>Power factor</th>\n",
       "      <th>Interfacial V</th>\n",
       "      <th>Dielectric rigidity</th>\n",
       "      <th>Water content</th>\n",
       "    </tr>\n",
       "  </thead>\n",
       "  <tbody>\n",
       "    <tr>\n",
       "      <th>count</th>\n",
       "      <td>470.000000</td>\n",
       "      <td>470.000000</td>\n",
       "      <td>470.000000</td>\n",
       "      <td>470.000000</td>\n",
       "      <td>470.000000</td>\n",
       "      <td>470.000000</td>\n",
       "      <td>470.000000</td>\n",
       "      <td>470.000000</td>\n",
       "      <td>470.000000</td>\n",
       "      <td>470.000000</td>\n",
       "      <td>470.000000</td>\n",
       "      <td>470.000000</td>\n",
       "      <td>470.000000</td>\n",
       "      <td>470.000000</td>\n",
       "    </tr>\n",
       "    <tr>\n",
       "      <th>mean</th>\n",
       "      <td>404.261702</td>\n",
       "      <td>8357.372340</td>\n",
       "      <td>47759.561702</td>\n",
       "      <td>79.695745</td>\n",
       "      <td>244.000000</td>\n",
       "      <td>1816.414894</td>\n",
       "      <td>162.923404</td>\n",
       "      <td>81.940426</td>\n",
       "      <td>91.491489</td>\n",
       "      <td>17.036596</td>\n",
       "      <td>1.849043</td>\n",
       "      <td>38.434043</td>\n",
       "      <td>53.495745</td>\n",
       "      <td>16.282979</td>\n",
       "    </tr>\n",
       "    <tr>\n",
       "      <th>std</th>\n",
       "      <td>2002.142678</td>\n",
       "      <td>14164.233283</td>\n",
       "      <td>13760.451816</td>\n",
       "      <td>489.320336</td>\n",
       "      <td>237.267485</td>\n",
       "      <td>2256.790519</td>\n",
       "      <td>1323.811504</td>\n",
       "      <td>342.573636</td>\n",
       "      <td>644.365828</td>\n",
       "      <td>46.735057</td>\n",
       "      <td>6.144009</td>\n",
       "      <td>6.178830</td>\n",
       "      <td>6.458906</td>\n",
       "      <td>17.115646</td>\n",
       "    </tr>\n",
       "    <tr>\n",
       "      <th>min</th>\n",
       "      <td>0.000000</td>\n",
       "      <td>57.000000</td>\n",
       "      <td>3600.000000</td>\n",
       "      <td>0.000000</td>\n",
       "      <td>10.000000</td>\n",
       "      <td>48.000000</td>\n",
       "      <td>0.000000</td>\n",
       "      <td>0.000000</td>\n",
       "      <td>0.000000</td>\n",
       "      <td>0.000000</td>\n",
       "      <td>0.050000</td>\n",
       "      <td>21.000000</td>\n",
       "      <td>27.000000</td>\n",
       "      <td>0.000000</td>\n",
       "    </tr>\n",
       "    <tr>\n",
       "      <th>25%</th>\n",
       "      <td>4.000000</td>\n",
       "      <td>496.000000</td>\n",
       "      <td>41700.000000</td>\n",
       "      <td>2.000000</td>\n",
       "      <td>66.000000</td>\n",
       "      <td>641.750000</td>\n",
       "      <td>0.000000</td>\n",
       "      <td>0.000000</td>\n",
       "      <td>0.000000</td>\n",
       "      <td>0.000000</td>\n",
       "      <td>0.570000</td>\n",
       "      <td>32.000000</td>\n",
       "      <td>51.000000</td>\n",
       "      <td>5.000000</td>\n",
       "    </tr>\n",
       "    <tr>\n",
       "      <th>50%</th>\n",
       "      <td>9.000000</td>\n",
       "      <td>3810.000000</td>\n",
       "      <td>49100.000000</td>\n",
       "      <td>3.000000</td>\n",
       "      <td>150.500000</td>\n",
       "      <td>1125.000000</td>\n",
       "      <td>3.000000</td>\n",
       "      <td>4.000000</td>\n",
       "      <td>0.000000</td>\n",
       "      <td>0.000000</td>\n",
       "      <td>1.000000</td>\n",
       "      <td>39.000000</td>\n",
       "      <td>54.000000</td>\n",
       "      <td>12.000000</td>\n",
       "    </tr>\n",
       "    <tr>\n",
       "      <th>75%</th>\n",
       "      <td>34.000000</td>\n",
       "      <td>14875.000000</td>\n",
       "      <td>55875.000000</td>\n",
       "      <td>7.000000</td>\n",
       "      <td>361.750000</td>\n",
       "      <td>2257.500000</td>\n",
       "      <td>6.000000</td>\n",
       "      <td>69.750000</td>\n",
       "      <td>0.000000</td>\n",
       "      <td>2.000000</td>\n",
       "      <td>1.000000</td>\n",
       "      <td>44.000000</td>\n",
       "      <td>56.000000</td>\n",
       "      <td>21.000000</td>\n",
       "    </tr>\n",
       "    <tr>\n",
       "      <th>max</th>\n",
       "      <td>23349.000000</td>\n",
       "      <td>249900.000000</td>\n",
       "      <td>85300.000000</td>\n",
       "      <td>7406.000000</td>\n",
       "      <td>1730.000000</td>\n",
       "      <td>24900.000000</td>\n",
       "      <td>16684.000000</td>\n",
       "      <td>5467.000000</td>\n",
       "      <td>9740.000000</td>\n",
       "      <td>227.000000</td>\n",
       "      <td>73.200000</td>\n",
       "      <td>57.000000</td>\n",
       "      <td>75.000000</td>\n",
       "      <td>183.000000</td>\n",
       "    </tr>\n",
       "  </tbody>\n",
       "</table>\n",
       "</div>"
      ],
      "text/plain": [
       "           Hydrogen         Oxigen      Nitrogen      Methane           CO  \\\n",
       "count    470.000000     470.000000    470.000000   470.000000   470.000000   \n",
       "mean     404.261702    8357.372340  47759.561702    79.695745   244.000000   \n",
       "std     2002.142678   14164.233283  13760.451816   489.320336   237.267485   \n",
       "min        0.000000      57.000000   3600.000000     0.000000    10.000000   \n",
       "25%        4.000000     496.000000  41700.000000     2.000000    66.000000   \n",
       "50%        9.000000    3810.000000  49100.000000     3.000000   150.500000   \n",
       "75%       34.000000   14875.000000  55875.000000     7.000000   361.750000   \n",
       "max    23349.000000  249900.000000  85300.000000  7406.000000  1730.000000   \n",
       "\n",
       "                CO2      Ethylene       Ethane   Acethylene        DBDS  \\\n",
       "count    470.000000    470.000000   470.000000   470.000000  470.000000   \n",
       "mean    1816.414894    162.923404    81.940426    91.491489   17.036596   \n",
       "std     2256.790519   1323.811504   342.573636   644.365828   46.735057   \n",
       "min       48.000000      0.000000     0.000000     0.000000    0.000000   \n",
       "25%      641.750000      0.000000     0.000000     0.000000    0.000000   \n",
       "50%     1125.000000      3.000000     4.000000     0.000000    0.000000   \n",
       "75%     2257.500000      6.000000    69.750000     0.000000    2.000000   \n",
       "max    24900.000000  16684.000000  5467.000000  9740.000000  227.000000   \n",
       "\n",
       "       Power factor  Interfacial V  Dielectric rigidity  Water content  \n",
       "count    470.000000     470.000000           470.000000     470.000000  \n",
       "mean       1.849043      38.434043            53.495745      16.282979  \n",
       "std        6.144009       6.178830             6.458906      17.115646  \n",
       "min        0.050000      21.000000            27.000000       0.000000  \n",
       "25%        0.570000      32.000000            51.000000       5.000000  \n",
       "50%        1.000000      39.000000            54.000000      12.000000  \n",
       "75%        1.000000      44.000000            56.000000      21.000000  \n",
       "max       73.200000      57.000000            75.000000     183.000000  "
      ]
     },
     "execution_count": 14,
     "metadata": {},
     "output_type": "execute_result"
    }
   ],
   "source": [
    "tfr_data.describe()"
   ]
  },
  {
   "cell_type": "markdown",
   "id": "4399c0c0",
   "metadata": {
    "id": "550a9dbb",
    "papermill": {
     "duration": 0.012603,
     "end_time": "2022-08-30T13:01:43.396455",
     "exception": false,
     "start_time": "2022-08-30T13:01:43.383852",
     "status": "completed"
    },
    "tags": []
   },
   "source": [
    "# EDA"
   ]
  },
  {
   "cell_type": "code",
   "execution_count": 15,
   "id": "978dc9b9",
   "metadata": {
    "execution": {
     "iopub.execute_input": "2022-08-30T13:01:44.662544Z",
     "iopub.status.busy": "2022-08-30T13:01:44.661919Z",
     "iopub.status.idle": "2022-08-30T13:01:44.935323Z",
     "shell.execute_reply": "2022-08-30T13:01:44.934074Z"
    },
    "id": "7b1ff8f4",
    "outputId": "c2806103-7855-45a0-83d4-305a90a5de9b",
    "papermill": {
     "duration": 0.294857,
     "end_time": "2022-08-30T13:01:44.938217",
     "exception": false,
     "start_time": "2022-08-30T13:01:44.643360",
     "status": "completed"
    },
    "tags": []
   },
   "outputs": [
    {
     "data": {
      "text/plain": [
       "<Axes: xlabel='Condition', ylabel='Count'>"
      ]
     },
     "execution_count": 15,
     "metadata": {},
     "output_type": "execute_result"
    },
    {
     "data": {
      "image/png": "[encoded data removed]",
      "text/plain": [
       "<Figure size 640x480 with 1 Axes>"
      ]
     },
     "metadata": {},
     "output_type": "display_data"
    }
   ],
   "source": [
    "sns.set_theme(style='darkgrid')\n",
    "sns.histplot(x='Condition',data=tfr_data,stat='count',bins=10)"
   ]
  },
  {
   "cell_type": "code",
   "execution_count": 16,
   "id": "964063f6",
   "metadata": {
    "execution": {
     "iopub.execute_input": "2022-08-30T13:03:15.629286Z",
     "iopub.status.busy": "2022-08-30T13:03:15.628551Z",
     "iopub.status.idle": "2022-08-30T13:03:15.635931Z",
     "shell.execute_reply": "2022-08-30T13:03:15.634876Z"
    },
    "id": "4e65814d",
    "papermill": {
     "duration": 0.036753,
     "end_time": "2022-08-30T13:03:15.638090",
     "exception": false,
     "start_time": "2022-08-30T13:03:15.601337",
     "status": "completed"
    },
    "tags": []
   },
   "outputs": [],
   "source": [
    "# Encoding Concept\n",
    "tfr_data['Condition'] = tfr_data['Condition'].astype('category')\n",
    "tfr_data['Condition'] = tfr_data['Condition'].cat.codes"
   ]
  },
  {
   "cell_type": "code",
   "execution_count": 17,
   "id": "97e066bf",
   "metadata": {
    "execution": {
     "iopub.execute_input": "2022-08-30T13:03:15.692260Z",
     "iopub.status.busy": "2022-08-30T13:03:15.691073Z",
     "iopub.status.idle": "2022-08-30T13:03:15.709633Z",
     "shell.execute_reply": "2022-08-30T13:03:15.708362Z"
    },
    "id": "baaa2e6d",
    "outputId": "0db77225-15d9-478f-bc6b-6166bb459d11",
    "papermill": {
     "duration": 0.048428,
     "end_time": "2022-08-30T13:03:15.712225",
     "exception": false,
     "start_time": "2022-08-30T13:03:15.663797",
     "status": "completed"
    },
    "tags": []
   },
   "outputs": [
    {
     "data": {
      "text/html": [
       "<div>\n",
       "<style scoped>\n",
       "    .dataframe tbody tr th:only-of-type {\n",
       "        vertical-align: middle;\n",
       "    }\n",
       "\n",
       "    .dataframe tbody tr th {\n",
       "        vertical-align: top;\n",
       "    }\n",
       "\n",
       "    .dataframe thead th {\n",
       "        text-align: right;\n",
       "    }\n",
       "</style>\n",
       "<table border=\"1\" class=\"dataframe\">\n",
       "  <thead>\n",
       "    <tr style=\"text-align: right;\">\n",
       "      <th></th>\n",
       "      <th>Hydrogen</th>\n",
       "      <th>Oxigen</th>\n",
       "      <th>Nitrogen</th>\n",
       "      <th>Methane</th>\n",
       "      <th>CO</th>\n",
       "      <th>CO2</th>\n",
       "      <th>Ethylene</th>\n",
       "      <th>Ethane</th>\n",
       "      <th>Acethylene</th>\n",
       "      <th>DBDS</th>\n",
       "      <th>Power factor</th>\n",
       "      <th>Interfacial V</th>\n",
       "      <th>Dielectric rigidity</th>\n",
       "      <th>Water content</th>\n",
       "      <th>Condition</th>\n",
       "    </tr>\n",
       "  </thead>\n",
       "  <tbody>\n",
       "    <tr>\n",
       "      <th>0</th>\n",
       "      <td>2845</td>\n",
       "      <td>5860</td>\n",
       "      <td>27842</td>\n",
       "      <td>7406</td>\n",
       "      <td>32</td>\n",
       "      <td>1344</td>\n",
       "      <td>16684</td>\n",
       "      <td>5467</td>\n",
       "      <td>7</td>\n",
       "      <td>19.0</td>\n",
       "      <td>1.00</td>\n",
       "      <td>45</td>\n",
       "      <td>55</td>\n",
       "      <td>0</td>\n",
       "      <td>0</td>\n",
       "    </tr>\n",
       "    <tr>\n",
       "      <th>1</th>\n",
       "      <td>12886</td>\n",
       "      <td>61</td>\n",
       "      <td>25041</td>\n",
       "      <td>877</td>\n",
       "      <td>83</td>\n",
       "      <td>864</td>\n",
       "      <td>4</td>\n",
       "      <td>305</td>\n",
       "      <td>0</td>\n",
       "      <td>45.0</td>\n",
       "      <td>1.00</td>\n",
       "      <td>45</td>\n",
       "      <td>55</td>\n",
       "      <td>0</td>\n",
       "      <td>0</td>\n",
       "    </tr>\n",
       "    <tr>\n",
       "      <th>2</th>\n",
       "      <td>2820</td>\n",
       "      <td>16400</td>\n",
       "      <td>56300</td>\n",
       "      <td>144</td>\n",
       "      <td>257</td>\n",
       "      <td>1080</td>\n",
       "      <td>206</td>\n",
       "      <td>11</td>\n",
       "      <td>2190</td>\n",
       "      <td>1.0</td>\n",
       "      <td>1.00</td>\n",
       "      <td>39</td>\n",
       "      <td>52</td>\n",
       "      <td>11</td>\n",
       "      <td>0</td>\n",
       "    </tr>\n",
       "    <tr>\n",
       "      <th>3</th>\n",
       "      <td>1099</td>\n",
       "      <td>70</td>\n",
       "      <td>37520</td>\n",
       "      <td>545</td>\n",
       "      <td>184</td>\n",
       "      <td>1402</td>\n",
       "      <td>6</td>\n",
       "      <td>230</td>\n",
       "      <td>0</td>\n",
       "      <td>87.0</td>\n",
       "      <td>4.58</td>\n",
       "      <td>33</td>\n",
       "      <td>49</td>\n",
       "      <td>5</td>\n",
       "      <td>0</td>\n",
       "    </tr>\n",
       "    <tr>\n",
       "      <th>4</th>\n",
       "      <td>3210</td>\n",
       "      <td>3570</td>\n",
       "      <td>47900</td>\n",
       "      <td>160</td>\n",
       "      <td>360</td>\n",
       "      <td>2130</td>\n",
       "      <td>4</td>\n",
       "      <td>43</td>\n",
       "      <td>4</td>\n",
       "      <td>1.0</td>\n",
       "      <td>0.77</td>\n",
       "      <td>44</td>\n",
       "      <td>55</td>\n",
       "      <td>3</td>\n",
       "      <td>0</td>\n",
       "    </tr>\n",
       "  </tbody>\n",
       "</table>\n",
       "</div>"
      ],
      "text/plain": [
       "   Hydrogen  Oxigen  Nitrogen  Methane   CO   CO2  Ethylene  Ethane  \\\n",
       "0      2845    5860     27842     7406   32  1344     16684    5467   \n",
       "1     12886      61     25041      877   83   864         4     305   \n",
       "2      2820   16400     56300      144  257  1080       206      11   \n",
       "3      1099      70     37520      545  184  1402         6     230   \n",
       "4      3210    3570     47900      160  360  2130         4      43   \n",
       "\n",
       "   Acethylene  DBDS  Power factor  Interfacial V  Dielectric rigidity  \\\n",
       "0           7  19.0          1.00             45                   55   \n",
       "1           0  45.0          1.00             45                   55   \n",
       "2        2190   1.0          1.00             39                   52   \n",
       "3           0  87.0          4.58             33                   49   \n",
       "4           4   1.0          0.77             44                   55   \n",
       "\n",
       "   Water content  Condition  \n",
       "0              0          0  \n",
       "1              0          0  \n",
       "2             11          0  \n",
       "3              5          0  \n",
       "4              3          0  "
      ]
     },
     "execution_count": 17,
     "metadata": {},
     "output_type": "execute_result"
    }
   ],
   "source": [
    "tfr_data.head()"
   ]
  },
  {
   "cell_type": "code",
   "execution_count": 18,
   "id": "3707c9c7",
   "metadata": {
    "execution": {
     "iopub.execute_input": "2022-08-30T13:03:15.768119Z",
     "iopub.status.busy": "2022-08-30T13:03:15.767245Z",
     "iopub.status.idle": "2022-08-30T13:03:15.777123Z",
     "shell.execute_reply": "2022-08-30T13:03:15.775904Z"
    },
    "id": "85465a33",
    "outputId": "6427f912-c6d7-43fb-8b81-1b9a5482915f",
    "papermill": {
     "duration": 0.040652,
     "end_time": "2022-08-30T13:03:15.779638",
     "exception": false,
     "start_time": "2022-08-30T13:03:15.738986",
     "status": "completed"
    },
    "tags": []
   },
   "outputs": [
    {
     "data": {
      "text/plain": [
       "Condition\n",
       "1    263\n",
       "0    207\n",
       "Name: count, dtype: int64"
      ]
     },
     "execution_count": 18,
     "metadata": {},
     "output_type": "execute_result"
    }
   ],
   "source": [
    "# Handling Imbalance data\n",
    "tfr_data['Condition'].value_counts()"
   ]
  },
  {
   "cell_type": "markdown",
   "id": "2a4c766a",
   "metadata": {},
   "source": [
    "## Definig X and Y (Balanced Dataset)"
   ]
  },
  {
   "cell_type": "code",
   "execution_count": 19,
   "id": "567af347",
   "metadata": {
    "execution": {
     "iopub.execute_input": "2022-08-30T13:03:30.066629Z",
     "iopub.status.busy": "2022-08-30T13:03:30.066211Z",
     "iopub.status.idle": "2022-08-30T13:03:30.072547Z",
     "shell.execute_reply": "2022-08-30T13:03:30.071454Z"
    },
    "id": "e84b3d2e",
    "papermill": {
     "duration": 0.036756,
     "end_time": "2022-08-30T13:03:30.074694",
     "exception": false,
     "start_time": "2022-08-30T13:03:30.037938",
     "status": "completed"
    },
    "tags": []
   },
   "outputs": [],
   "source": [
    "# separating the independent and dependent variables\n",
    "x = tfr_data.iloc[:,0:10].values\n",
    "y = tfr_data.iloc[:,-1].values"
   ]
  },
  {
   "cell_type": "code",
   "execution_count": 20,
   "id": "4ee42352",
   "metadata": {
    "execution": {
     "iopub.execute_input": "2022-08-30T13:03:30.131170Z",
     "iopub.status.busy": "2022-08-30T13:03:30.130483Z",
     "iopub.status.idle": "2022-08-30T13:03:30.148318Z",
     "shell.execute_reply": "2022-08-30T13:03:30.147170Z"
    },
    "id": "83511f0f",
    "outputId": "f8de60a8-02a8-4a5b-9709-8f09930ff523",
    "papermill": {
     "duration": 0.048198,
     "end_time": "2022-08-30T13:03:30.150644",
     "exception": false,
     "start_time": "2022-08-30T13:03:30.102446",
     "status": "completed"
    },
    "scrolled": true,
    "tags": []
   },
   "outputs": [
    {
     "data": {
      "text/plain": [
       "array([[2.8450e+03, 5.8600e+03, 2.7842e+04, 7.4060e+03, 3.2000e+01,\n",
       "        1.3440e+03, 1.6684e+04, 5.4670e+03, 7.0000e+00, 1.9000e+01],\n",
       "       [1.2886e+04, 6.1000e+01, 2.5041e+04, 8.7700e+02, 8.3000e+01,\n",
       "        8.6400e+02, 4.0000e+00, 3.0500e+02, 0.0000e+00, 4.5000e+01],\n",
       "       [2.8200e+03, 1.6400e+04, 5.6300e+04, 1.4400e+02, 2.5700e+02,\n",
       "        1.0800e+03, 2.0600e+02, 1.1000e+01, 2.1900e+03, 1.0000e+00],\n",
       "       [1.0990e+03, 7.0000e+01, 3.7520e+04, 5.4500e+02, 1.8400e+02,\n",
       "        1.4020e+03, 6.0000e+00, 2.3000e+02, 0.0000e+00, 8.7000e+01],\n",
       "       [3.2100e+03, 3.5700e+03, 4.7900e+04, 1.6000e+02, 3.6000e+02,\n",
       "        2.1300e+03, 4.0000e+00, 4.3000e+01, 4.0000e+00, 1.0000e+00]])"
      ]
     },
     "execution_count": 20,
     "metadata": {},
     "output_type": "execute_result"
    }
   ],
   "source": [
    "x[0:5,:]"
   ]
  },
  {
   "cell_type": "code",
   "execution_count": 21,
   "id": "dca9e8ad",
   "metadata": {
    "execution": {
     "iopub.execute_input": "2022-08-30T13:03:30.206011Z",
     "iopub.status.busy": "2022-08-30T13:03:30.205633Z",
     "iopub.status.idle": "2022-08-30T13:03:30.212936Z",
     "shell.execute_reply": "2022-08-30T13:03:30.212079Z"
    },
    "id": "3237a67d",
    "outputId": "f7f60470-056a-4722-b399-db8f51600872",
    "papermill": {
     "duration": 0.037348,
     "end_time": "2022-08-30T13:03:30.214930",
     "exception": false,
     "start_time": "2022-08-30T13:03:30.177582",
     "status": "completed"
    },
    "tags": []
   },
   "outputs": [
    {
     "data": {
      "text/plain": [
       "array([0, 0, 0, 0, 0], dtype=int8)"
      ]
     },
     "execution_count": 21,
     "metadata": {},
     "output_type": "execute_result"
    }
   ],
   "source": [
    "y[0:5]"
   ]
  },
  {
   "cell_type": "code",
   "execution_count": 22,
   "id": "06995493",
   "metadata": {
    "execution": {
     "iopub.execute_input": "2022-08-30T13:03:30.541435Z",
     "iopub.status.busy": "2022-08-30T13:03:30.540653Z",
     "iopub.status.idle": "2022-08-30T13:03:30.551005Z",
     "shell.execute_reply": "2022-08-30T13:03:30.549259Z"
    },
    "id": "cac5a7d3",
    "outputId": "34fe5613-619d-450c-d909-9b4f060480d5",
    "papermill": {
     "duration": 0.04325,
     "end_time": "2022-08-30T13:03:30.554441",
     "exception": false,
     "start_time": "2022-08-30T13:03:30.511191",
     "status": "completed"
    },
    "tags": []
   },
   "outputs": [
    {
     "name": "stdout",
     "output_type": "stream",
     "text": [
      "(329, 10)\n",
      "(141, 10)\n",
      "(329,)\n",
      "(141,)\n"
     ]
    }
   ],
   "source": [
    "# Splitting data into train and test data\n",
    "from sklearn.model_selection import train_test_split\n",
    "\n",
    "x_train, x_test, y_train, y_test=train_test_split(x, y, train_size=0.7, random_state=150, stratify=y)\n",
    "\n",
    "print(x_train.shape)\n",
    "print(x_test.shape)\n",
    "print(y_train.shape)\n",
    "print(y_test.shape)"
   ]
  },
  {
   "cell_type": "code",
   "execution_count": 23,
   "id": "b4253681",
   "metadata": {},
   "outputs": [],
   "source": [
    "# feature scaling\n",
    "from sklearn.preprocessing import StandardScaler\n",
    "sc = StandardScaler()\n",
    "x_train = sc.fit_transform(x_train)\n",
    "x_test = sc.transform(x_test)"
   ]
  },
  {
   "cell_type": "code",
   "execution_count": 24,
   "id": "05c819e9",
   "metadata": {},
   "outputs": [],
   "source": [
    "import pickle\n",
    "pickle.dump(sc,open('scaling.pkl','wb'))"
   ]
  },
  {
   "cell_type": "markdown",
   "id": "d872add9",
   "metadata": {
    "id": "e8u86AyuZ4FX",
    "papermill": {
     "duration": 0.028684,
     "end_time": "2022-08-30T13:03:31.530873",
     "exception": false,
     "start_time": "2022-08-30T13:03:31.502189",
     "status": "completed"
    },
    "tags": []
   },
   "source": [
    "### XGBoost Model"
   ]
  },
  {
   "cell_type": "code",
   "execution_count": 25,
   "id": "0137ffb6",
   "metadata": {
    "execution": {
     "iopub.execute_input": "2022-08-30T13:03:43.101474Z",
     "iopub.status.busy": "2022-08-30T13:03:43.100885Z",
     "iopub.status.idle": "2022-08-30T13:03:44.068382Z",
     "shell.execute_reply": "2022-08-30T13:03:44.067125Z"
    },
    "id": "KhJVtYZ0Z0AG",
    "outputId": "43086687-efd3-4496-e22d-432bec3cfb20",
    "papermill": {
     "duration": 1.0014,
     "end_time": "2022-08-30T13:03:44.071022",
     "exception": false,
     "start_time": "2022-08-30T13:03:43.069622",
     "status": "completed"
    },
    "tags": []
   },
   "outputs": [
    {
     "data": {
      "text/html": [
       "<style>#sk-container-id-1 {\n",
       "  /* Definition of color scheme common for light and dark mode */\n",
       "  --sklearn-color-text: black;\n",
       "  --sklearn-color-line: gray;\n",
       "  /* Definition of color scheme for unfitted estimators */\n",
       "  --sklearn-color-unfitted-level-0: #fff5e6;\n",
       "  --sklearn-color-unfitted-level-1: #f6e4d2;\n",
       "  --sklearn-color-unfitted-level-2: #ffe0b3;\n",
       "  --sklearn-color-unfitted-level-3: chocolate;\n",
       "  /* Definition of color scheme for fitted estimators */\n",
       "  --sklearn-color-fitted-level-0: #f0f8ff;\n",
       "  --sklearn-color-fitted-level-1: #d4ebff;\n",
       "  --sklearn-color-fitted-level-2: #b3dbfd;\n",
       "  --sklearn-color-fitted-level-3: cornflowerblue;\n",
       "\n",
       "  /* Specific color for light theme */\n",
       "  --sklearn-color-text-on-default-background: var(--sg-text-color, var(--theme-code-foreground, var(--jp-content-font-color1, black)));\n",
       "  --sklearn-color-background: var(--sg-background-color, var(--theme-background, var(--jp-layout-color0, white)));\n",
       "  --sklearn-color-border-box: var(--sg-text-color, var(--theme-code-foreground, var(--jp-content-font-color1, black)));\n",
       "  --sklearn-color-icon: #696969;\n",
       "\n",
       "  @media (prefers-color-scheme: dark) {\n",
       "    /* Redefinition of color scheme for dark theme */\n",
       "    --sklearn-color-text-on-default-background: var(--sg-text-color, var(--theme-code-foreground, var(--jp-content-font-color1, white)));\n",
       "    --sklearn-color-background: var(--sg-background-color, var(--theme-background, var(--jp-layout-color0, #111)));\n",
       "    --sklearn-color-border-box: var(--sg-text-color, var(--theme-code-foreground, var(--jp-content-font-color1, white)));\n",
       "    --sklearn-color-icon: #878787;\n",
       "  }\n",
       "}\n",
       "\n",
       "#sk-container-id-1 {\n",
       "  color: var(--sklearn-color-text);\n",
       "}\n",
       "\n",
       "#sk-container-id-1 pre {\n",
       "  padding: 0;\n",
       "}\n",
       "\n",
       "#sk-container-id-1 input.sk-hidden--visually {\n",
       "  border: 0;\n",
       "  clip: rect(1px 1px 1px 1px);\n",
       "  clip: rect(1px, 1px, 1px, 1px);\n",
       "  height: 1px;\n",
       "  margin: -1px;\n",
       "  overflow: hidden;\n",
       "  padding: 0;\n",
       "  position: absolute;\n",
       "  width: 1px;\n",
       "}\n",
       "\n",
       "#sk-container-id-1 div.sk-dashed-wrapped {\n",
       "  border: 1px dashed var(--sklearn-color-line);\n",
       "  margin: 0 0.4em 0.5em 0.4em;\n",
       "  box-sizing: border-box;\n",
       "  padding-bottom: 0.4em;\n",
       "  background-color: var(--sklearn-color-background);\n",
       "}\n",
       "\n",
       "#sk-container-id-1 div.sk-container {\n",
       "  /* jupyter's `normalize.less` sets `[hidden] { display: none; }`\n",
       "     but bootstrap.min.css set `[hidden] { display: none !important; }`\n",
       "     so we also need the `!important` here to be able to override the\n",
       "     default hidden behavior on the sphinx rendered scikit-learn.org.\n",
       "     See: https://github.com/scikit-learn/scikit-learn/issues/21755 */\n",
       "  display: inline-block !important;\n",
       "  position: relative;\n",
       "}\n",
       "\n",
       "#sk-container-id-1 div.sk-text-repr-fallback {\n",
       "  display: none;\n",
       "}\n",
       "\n",
       "div.sk-parallel-item,\n",
       "div.sk-serial,\n",
       "div.sk-item {\n",
       "  /* draw centered vertical line to link estimators */\n",
       "  background-image: linear-gradient(var(--sklearn-color-text-on-default-background), var(--sklearn-color-text-on-default-background));\n",
       "  background-size: 2px 100%;\n",
       "  background-repeat: no-repeat;\n",
       "  background-position: center center;\n",
       "}\n",
       "\n",
       "/* Parallel-specific style estimator block */\n",
       "\n",
       "#sk-container-id-1 div.sk-parallel-item::after {\n",
       "  content: \"\";\n",
       "  width: 100%;\n",
       "  border-bottom: 2px solid var(--sklearn-color-text-on-default-background);\n",
       "  flex-grow: 1;\n",
       "}\n",
       "\n",
       "#sk-container-id-1 div.sk-parallel {\n",
       "  display: flex;\n",
       "  align-items: stretch;\n",
       "  justify-content: center;\n",
       "  background-color: var(--sklearn-color-background);\n",
       "  position: relative;\n",
       "}\n",
       "\n",
       "#sk-container-id-1 div.sk-parallel-item {\n",
       "  display: flex;\n",
       "  flex-direction: column;\n",
       "}\n",
       "\n",
       "#sk-container-id-1 div.sk-parallel-item:first-child::after {\n",
       "  align-self: flex-end;\n",
       "  width: 50%;\n",
       "}\n",
       "\n",
       "#sk-container-id-1 div.sk-parallel-item:last-child::after {\n",
       "  align-self: flex-start;\n",
       "  width: 50%;\n",
       "}\n",
       "\n",
       "#sk-container-id-1 div.sk-parallel-item:only-child::after {\n",
       "  width: 0;\n",
       "}\n",
       "\n",
       "/* Serial-specific style estimator block */\n",
       "\n",
       "#sk-container-id-1 div.sk-serial {\n",
       "  display: flex;\n",
       "  flex-direction: column;\n",
       "  align-items: center;\n",
       "  background-color: var(--sklearn-color-background);\n",
       "  padding-right: 1em;\n",
       "  padding-left: 1em;\n",
       "}\n",
       "\n",
       "\n",
       "/* Toggleable style: style used for estimator/Pipeline/ColumnTransformer box that is\n",
       "clickable and can be expanded/collapsed.\n",
       "- Pipeline and ColumnTransformer use this feature and define the default style\n",
       "- Estimators will overwrite some part of the style using the `sk-estimator` class\n",
       "*/\n",
       "\n",
       "/* Pipeline and ColumnTransformer style (default) */\n",
       "\n",
       "#sk-container-id-1 div.sk-toggleable {\n",
       "  /* Default theme specific background. It is overwritten whether we have a\n",
       "  specific estimator or a Pipeline/ColumnTransformer */\n",
       "  background-color: var(--sklearn-color-background);\n",
       "}\n",
       "\n",
       "/* Toggleable label */\n",
       "#sk-container-id-1 label.sk-toggleable__label {\n",
       "  cursor: pointer;\n",
       "  display: block;\n",
       "  width: 100%;\n",
       "  margin-bottom: 0;\n",
       "  padding: 0.5em;\n",
       "  box-sizing: border-box;\n",
       "  text-align: center;\n",
       "}\n",
       "\n",
       "#sk-container-id-1 label.sk-toggleable__label-arrow:before {\n",
       "  /* Arrow on the left of the label */\n",
       "  content: \"▸\";\n",
       "  float: left;\n",
       "  margin-right: 0.25em;\n",
       "  color: var(--sklearn-color-icon);\n",
       "}\n",
       "\n",
       "#sk-container-id-1 label.sk-toggleable__label-arrow:hover:before {\n",
       "  color: var(--sklearn-color-text);\n",
       "}\n",
       "\n",
       "/* Toggleable content - dropdown */\n",
       "\n",
       "#sk-container-id-1 div.sk-toggleable__content {\n",
       "  max-height: 0;\n",
       "  max-width: 0;\n",
       "  overflow: hidden;\n",
       "  text-align: left;\n",
       "  /* unfitted */\n",
       "  background-color: var(--sklearn-color-unfitted-level-0);\n",
       "}\n",
       "\n",
       "#sk-container-id-1 div.sk-toggleable__content.fitted {\n",
       "  /* fitted */\n",
       "  background-color: var(--sklearn-color-fitted-level-0);\n",
       "}\n",
       "\n",
       "#sk-container-id-1 div.sk-toggleable__content pre {\n",
       "  margin: 0.2em;\n",
       "  border-radius: 0.25em;\n",
       "  color: var(--sklearn-color-text);\n",
       "  /* unfitted */\n",
       "  background-color: var(--sklearn-color-unfitted-level-0);\n",
       "}\n",
       "\n",
       "#sk-container-id-1 div.sk-toggleable__content.fitted pre {\n",
       "  /* unfitted */\n",
       "  background-color: var(--sklearn-color-fitted-level-0);\n",
       "}\n",
       "\n",
       "#sk-container-id-1 input.sk-toggleable__control:checked~div.sk-toggleable__content {\n",
       "  /* Expand drop-down */\n",
       "  max-height: 200px;\n",
       "  max-width: 100%;\n",
       "  overflow: auto;\n",
       "}\n",
       "\n",
       "#sk-container-id-1 input.sk-toggleable__control:checked~label.sk-toggleable__label-arrow:before {\n",
       "  content: \"▾\";\n",
       "}\n",
       "\n",
       "/* Pipeline/ColumnTransformer-specific style */\n",
       "\n",
       "#sk-container-id-1 div.sk-label input.sk-toggleable__control:checked~label.sk-toggleable__label {\n",
       "  color: var(--sklearn-color-text);\n",
       "  background-color: var(--sklearn-color-unfitted-level-2);\n",
       "}\n",
       "\n",
       "#sk-container-id-1 div.sk-label.fitted input.sk-toggleable__control:checked~label.sk-toggleable__label {\n",
       "  background-color: var(--sklearn-color-fitted-level-2);\n",
       "}\n",
       "\n",
       "/* Estimator-specific style */\n",
       "\n",
       "/* Colorize estimator box */\n",
       "#sk-container-id-1 div.sk-estimator input.sk-toggleable__control:checked~label.sk-toggleable__label {\n",
       "  /* unfitted */\n",
       "  background-color: var(--sklearn-color-unfitted-level-2);\n",
       "}\n",
       "\n",
       "#sk-container-id-1 div.sk-estimator.fitted input.sk-toggleable__control:checked~label.sk-toggleable__label {\n",
       "  /* fitted */\n",
       "  background-color: var(--sklearn-color-fitted-level-2);\n",
       "}\n",
       "\n",
       "#sk-container-id-1 div.sk-label label.sk-toggleable__label,\n",
       "#sk-container-id-1 div.sk-label label {\n",
       "  /* The background is the default theme color */\n",
       "  color: var(--sklearn-color-text-on-default-background);\n",
       "}\n",
       "\n",
       "/* On hover, darken the color of the background */\n",
       "#sk-container-id-1 div.sk-label:hover label.sk-toggleable__label {\n",
       "  color: var(--sklearn-color-text);\n",
       "  background-color: var(--sklearn-color-unfitted-level-2);\n",
       "}\n",
       "\n",
       "/* Label box, darken color on hover, fitted */\n",
       "#sk-container-id-1 div.sk-label.fitted:hover label.sk-toggleable__label.fitted {\n",
       "  color: var(--sklearn-color-text);\n",
       "  background-color: var(--sklearn-color-fitted-level-2);\n",
       "}\n",
       "\n",
       "/* Estimator label */\n",
       "\n",
       "#sk-container-id-1 div.sk-label label {\n",
       "  font-family: monospace;\n",
       "  font-weight: bold;\n",
       "  display: inline-block;\n",
       "  line-height: 1.2em;\n",
       "}\n",
       "\n",
       "#sk-container-id-1 div.sk-label-container {\n",
       "  text-align: center;\n",
       "}\n",
       "\n",
       "/* Estimator-specific */\n",
       "#sk-container-id-1 div.sk-estimator {\n",
       "  font-family: monospace;\n",
       "  border: 1px dotted var(--sklearn-color-border-box);\n",
       "  border-radius: 0.25em;\n",
       "  box-sizing: border-box;\n",
       "  margin-bottom: 0.5em;\n",
       "  /* unfitted */\n",
       "  background-color: var(--sklearn-color-unfitted-level-0);\n",
       "}\n",
       "\n",
       "#sk-container-id-1 div.sk-estimator.fitted {\n",
       "  /* fitted */\n",
       "  background-color: var(--sklearn-color-fitted-level-0);\n",
       "}\n",
       "\n",
       "/* on hover */\n",
       "#sk-container-id-1 div.sk-estimator:hover {\n",
       "  /* unfitted */\n",
       "  background-color: var(--sklearn-color-unfitted-level-2);\n",
       "}\n",
       "\n",
       "#sk-container-id-1 div.sk-estimator.fitted:hover {\n",
       "  /* fitted */\n",
       "  background-color: var(--sklearn-color-fitted-level-2);\n",
       "}\n",
       "\n",
       "/* Specification for estimator info (e.g. \"i\" and \"?\") */\n",
       "\n",
       "/* Common style for \"i\" and \"?\" */\n",
       "\n",
       ".sk-estimator-doc-link,\n",
       "a:link.sk-estimator-doc-link,\n",
       "a:visited.sk-estimator-doc-link {\n",
       "  float: right;\n",
       "  font-size: smaller;\n",
       "  line-height: 1em;\n",
       "  font-family: monospace;\n",
       "  background-color: var(--sklearn-color-background);\n",
       "  border-radius: 1em;\n",
       "  height: 1em;\n",
       "  width: 1em;\n",
       "  text-decoration: none !important;\n",
       "  margin-left: 1ex;\n",
       "  /* unfitted */\n",
       "  border: var(--sklearn-color-unfitted-level-1) 1pt solid;\n",
       "  color: var(--sklearn-color-unfitted-level-1);\n",
       "}\n",
       "\n",
       ".sk-estimator-doc-link.fitted,\n",
       "a:link.sk-estimator-doc-link.fitted,\n",
       "a:visited.sk-estimator-doc-link.fitted {\n",
       "  /* fitted */\n",
       "  border: var(--sklearn-color-fitted-level-1) 1pt solid;\n",
       "  color: var(--sklearn-color-fitted-level-1);\n",
       "}\n",
       "\n",
       "/* On hover */\n",
       "div.sk-estimator:hover .sk-estimator-doc-link:hover,\n",
       ".sk-estimator-doc-link:hover,\n",
       "div.sk-label-container:hover .sk-estimator-doc-link:hover,\n",
       ".sk-estimator-doc-link:hover {\n",
       "  /* unfitted */\n",
       "  background-color: var(--sklearn-color-unfitted-level-3);\n",
       "  color: var(--sklearn-color-background);\n",
       "  text-decoration: none;\n",
       "}\n",
       "\n",
       "div.sk-estimator.fitted:hover .sk-estimator-doc-link.fitted:hover,\n",
       ".sk-estimator-doc-link.fitted:hover,\n",
       "div.sk-label-container:hover .sk-estimator-doc-link.fitted:hover,\n",
       ".sk-estimator-doc-link.fitted:hover {\n",
       "  /* fitted */\n",
       "  background-color: var(--sklearn-color-fitted-level-3);\n",
       "  color: var(--sklearn-color-background);\n",
       "  text-decoration: none;\n",
       "}\n",
       "\n",
       "/* Span, style for the box shown on hovering the info icon */\n",
       ".sk-estimator-doc-link span {\n",
       "  display: none;\n",
       "  z-index: 9999;\n",
       "  position: relative;\n",
       "  font-weight: normal;\n",
       "  right: .2ex;\n",
       "  padding: .5ex;\n",
       "  margin: .5ex;\n",
       "  width: min-content;\n",
       "  min-width: 20ex;\n",
       "  max-width: 50ex;\n",
       "  color: var(--sklearn-color-text);\n",
       "  box-shadow: 2pt 2pt 4pt #999;\n",
       "  /* unfitted */\n",
       "  background: var(--sklearn-color-unfitted-level-0);\n",
       "  border: .5pt solid var(--sklearn-color-unfitted-level-3);\n",
       "}\n",
       "\n",
       ".sk-estimator-doc-link.fitted span {\n",
       "  /* fitted */\n",
       "  background: var(--sklearn-color-fitted-level-0);\n",
       "  border: var(--sklearn-color-fitted-level-3);\n",
       "}\n",
       "\n",
       ".sk-estimator-doc-link:hover span {\n",
       "  display: block;\n",
       "}\n",
       "\n",
       "/* \"?\"-specific style due to the `<a>` HTML tag */\n",
       "\n",
       "#sk-container-id-1 a.estimator_doc_link {\n",
       "  float: right;\n",
       "  font-size: 1rem;\n",
       "  line-height: 1em;\n",
       "  font-family: monospace;\n",
       "  background-color: var(--sklearn-color-background);\n",
       "  border-radius: 1rem;\n",
       "  height: 1rem;\n",
       "  width: 1rem;\n",
       "  text-decoration: none;\n",
       "  /* unfitted */\n",
       "  color: var(--sklearn-color-unfitted-level-1);\n",
       "  border: var(--sklearn-color-unfitted-level-1) 1pt solid;\n",
       "}\n",
       "\n",
       "#sk-container-id-1 a.estimator_doc_link.fitted {\n",
       "  /* fitted */\n",
       "  border: var(--sklearn-color-fitted-level-1) 1pt solid;\n",
       "  color: var(--sklearn-color-fitted-level-1);\n",
       "}\n",
       "\n",
       "/* On hover */\n",
       "#sk-container-id-1 a.estimator_doc_link:hover {\n",
       "  /* unfitted */\n",
       "  background-color: var(--sklearn-color-unfitted-level-3);\n",
       "  color: var(--sklearn-color-background);\n",
       "  text-decoration: none;\n",
       "}\n",
       "\n",
       "#sk-container-id-1 a.estimator_doc_link.fitted:hover {\n",
       "  /* fitted */\n",
       "  background-color: var(--sklearn-color-fitted-level-3);\n",
       "}\n",
       "</style><div id=\"sk-container-id-1\" class=\"sk-top-container\"><div class=\"sk-text-repr-fallback\"><pre>XGBClassifier(base_score=None, booster=None, callbacks=None,\n",
       "              colsample_bylevel=None, colsample_bynode=None,\n",
       "              colsample_bytree=None, device=None, early_stopping_rounds=None,\n",
       "              enable_categorical=False, eval_metric=None, feature_types=None,\n",
       "              gamma=None, grow_policy=None, importance_type=None,\n",
       "              interaction_constraints=None, learning_rate=None, max_bin=None,\n",
       "              max_cat_threshold=None, max_cat_to_onehot=None,\n",
       "              max_delta_step=None, max_depth=None, max_leaves=None,\n",
       "              min_child_weight=None, missing=nan, monotone_constraints=None,\n",
       "              multi_strategy=None, n_estimators=100, n_jobs=None,\n",
       "              num_parallel_tree=None, random_state=None, ...)</pre><b>In a Jupyter environment, please rerun this cell to show the HTML representation or trust the notebook. <br />On GitHub, the HTML representation is unable to render, please try loading this page with nbviewer.org.</b></div><div class=\"sk-container\" hidden><div class=\"sk-item\"><div class=\"sk-estimator fitted sk-toggleable\"><input class=\"sk-toggleable__control sk-hidden--visually\" id=\"sk-estimator-id-1\" type=\"checkbox\" checked><label for=\"sk-estimator-id-1\" class=\"sk-toggleable__label fitted sk-toggleable__label-arrow fitted\">&nbsp;XGBClassifier<span class=\"sk-estimator-doc-link fitted\">i<span>Fitted</span></span></label><div class=\"sk-toggleable__content fitted\"><pre>XGBClassifier(base_score=None, booster=None, callbacks=None,\n",
       "              colsample_bylevel=None, colsample_bynode=None,\n",
       "              colsample_bytree=None, device=None, early_stopping_rounds=None,\n",
       "              enable_categorical=False, eval_metric=None, feature_types=None,\n",
       "              gamma=None, grow_policy=None, importance_type=None,\n",
       "              interaction_constraints=None, learning_rate=None, max_bin=None,\n",
       "              max_cat_threshold=None, max_cat_to_onehot=None,\n",
       "              max_delta_step=None, max_depth=None, max_leaves=None,\n",
       "              min_child_weight=None, missing=nan, monotone_constraints=None,\n",
       "              multi_strategy=None, n_estimators=100, n_jobs=None,\n",
       "              num_parallel_tree=None, random_state=None, ...)</pre></div> </div></div></div></div>"
      ],
      "text/plain": [
       "XGBClassifier(base_score=None, booster=None, callbacks=None,\n",
       "              colsample_bylevel=None, colsample_bynode=None,\n",
       "              colsample_bytree=None, device=None, early_stopping_rounds=None,\n",
       "              enable_categorical=False, eval_metric=None, feature_types=None,\n",
       "              gamma=None, grow_policy=None, importance_type=None,\n",
       "              interaction_constraints=None, learning_rate=None, max_bin=None,\n",
       "              max_cat_threshold=None, max_cat_to_onehot=None,\n",
       "              max_delta_step=None, max_depth=None, max_leaves=None,\n",
       "              min_child_weight=None, missing=nan, monotone_constraints=None,\n",
       "              multi_strategy=None, n_estimators=100, n_jobs=None,\n",
       "              num_parallel_tree=None, random_state=None, ...)"
      ]
     },
     "execution_count": 25,
     "metadata": {},
     "output_type": "execute_result"
    }
   ],
   "source": [
    "from xgboost import XGBClassifier\n",
    "xgb = XGBClassifier(n_estimators = 100)\n",
    "xgb.fit(x_train,y_train)"
   ]
  },
  {
   "cell_type": "code",
   "execution_count": 26,
   "id": "390c1fbd",
   "metadata": {
    "execution": {
     "iopub.execute_input": "2022-08-30T13:03:44.131137Z",
     "iopub.status.busy": "2022-08-30T13:03:44.130736Z",
     "iopub.status.idle": "2022-08-30T13:03:44.155757Z",
     "shell.execute_reply": "2022-08-30T13:03:44.154638Z"
    },
    "id": "BfVxUrgQZz71",
    "papermill": {
     "duration": 0.058586,
     "end_time": "2022-08-30T13:03:44.158561",
     "exception": false,
     "start_time": "2022-08-30T13:03:44.099975",
     "status": "completed"
    },
    "tags": []
   },
   "outputs": [],
   "source": [
    "y_pred_train_xgb=xgb.predict(x_train)\n",
    "y_pred_test_xgb=xgb.predict(x_test)"
   ]
  },
  {
   "cell_type": "code",
   "execution_count": 27,
   "id": "7f47bdda",
   "metadata": {},
   "outputs": [
    {
     "data": {
      "text/plain": [
       "array([1, 1, 0, 1, 1, 0, 0, 1, 1, 1, 0, 0, 1, 0, 1, 1, 1, 0, 0, 1, 1, 0,\n",
       "       1, 1, 1, 1, 0, 0, 0, 0, 0, 1, 1, 1, 0, 1, 0, 1, 1, 1, 0, 1, 1, 1,\n",
       "       0, 0, 0, 1, 1, 1, 1, 0, 0, 1, 0, 0, 1, 0, 1, 1, 1, 0, 0, 1, 1, 1,\n",
       "       0, 1, 1, 1, 1, 1, 0, 0, 0, 1, 0, 0, 0, 1, 1, 0, 0, 1, 1, 1, 0, 1,\n",
       "       1, 0, 1, 0, 0, 1, 1, 0, 1, 1, 0, 1, 1, 0, 1, 0, 1, 1, 1, 1, 1, 1,\n",
       "       1, 1, 0, 1, 0, 1, 0, 1, 1, 0, 0, 1, 1, 1, 0, 1, 1, 0, 1, 1, 1, 1,\n",
       "       1, 1, 0, 1, 0, 1, 1, 1, 1])"
      ]
     },
     "execution_count": 27,
     "metadata": {},
     "output_type": "execute_result"
    }
   ],
   "source": [
    "y_pred_test_xgb"
   ]
  },
  {
   "cell_type": "code",
   "execution_count": 28,
   "id": "6a3c1b7e",
   "metadata": {
    "execution": {
     "iopub.execute_input": "2022-08-30T13:03:44.218205Z",
     "iopub.status.busy": "2022-08-30T13:03:44.217449Z",
     "iopub.status.idle": "2022-08-30T13:03:44.224552Z",
     "shell.execute_reply": "2022-08-30T13:03:44.223306Z"
    },
    "id": "y1oH2CcVZz6D",
    "outputId": "91f9b535-d6a4-4e31-d16e-b32d78cc3848",
    "papermill": {
     "duration": 0.039852,
     "end_time": "2022-08-30T13:03:44.227255",
     "exception": false,
     "start_time": "2022-08-30T13:03:44.187403",
     "status": "completed"
    },
    "tags": []
   },
   "outputs": [
    {
     "name": "stdout",
     "output_type": "stream",
     "text": [
      "Accuracy score of training dataset: 1.0\n",
      "Accuracy score of test dataset: 0.8368794326241135\n"
     ]
    }
   ],
   "source": [
    "from sklearn.metrics import accuracy_score\n",
    "print(\"Accuracy score of training dataset:\",accuracy_score(y_train,y_pred_train_xgb))\n",
    "print(\"Accuracy score of test dataset:\",accuracy_score(y_test,y_pred_test_xgb))"
   ]
  },
  {
   "cell_type": "code",
   "execution_count": 29,
   "id": "5bfb6e9d",
   "metadata": {},
   "outputs": [
    {
     "data": {
      "text/plain": [
       "array([[46, 16],\n",
       "       [ 7, 72]])"
      ]
     },
     "execution_count": 29,
     "metadata": {},
     "output_type": "execute_result"
    }
   ],
   "source": [
    "# test scoring\n",
    "from sklearn.metrics import confusion_matrix\n",
    "score_2 = confusion_matrix(y_test, y_pred_test_xgb)\n",
    "score_2"
   ]
  },
  {
   "cell_type": "code",
   "execution_count": 30,
   "id": "357aaf53",
   "metadata": {},
   "outputs": [
    {
     "data": {
      "text/plain": [
       "np.float64(0.9113924050632911)"
      ]
     },
     "execution_count": 30,
     "metadata": {},
     "output_type": "execute_result"
    }
   ],
   "source": [
    "(score_2[1][1])/(score_2[1][0]+score_2[1][1])"
   ]
  },
  {
   "cell_type": "code",
   "execution_count": 31,
   "id": "49484c05",
   "metadata": {},
   "outputs": [
    {
     "name": "stdout",
     "output_type": "stream",
     "text": [
      "              precision    recall  f1-score   support\n",
      "\n",
      "           0       0.87      0.74      0.80        62\n",
      "           1       0.82      0.91      0.86        79\n",
      "\n",
      "    accuracy                           0.84       141\n",
      "   macro avg       0.84      0.83      0.83       141\n",
      "weighted avg       0.84      0.84      0.83       141\n",
      "\n"
     ]
    }
   ],
   "source": [
    "from sklearn.metrics import classification_report\n",
    "print(classification_report(y_test,y_pred_test_xgb))"
   ]
  },
  {
   "cell_type": "markdown",
   "id": "66a28723",
   "metadata": {},
   "source": [
    "### Pickling the Model File for Deployment"
   ]
  },
  {
   "cell_type": "code",
   "execution_count": 32,
   "id": "c30968ad",
   "metadata": {},
   "outputs": [],
   "source": [
    "import pickle"
   ]
  },
  {
   "cell_type": "code",
   "execution_count": 33,
   "id": "19fe1e12",
   "metadata": {},
   "outputs": [],
   "source": [
    "pickle.dump(xgb,open('XGBoostModel.pkl','wb'))"
   ]
  },
  {
   "cell_type": "code",
   "execution_count": 34,
   "id": "8af2ca9f",
   "metadata": {},
   "outputs": [],
   "source": [
    "pickle_model = pickle.load(open('XGBoostModel.pkl','rb'))"
   ]
  },
  {
   "cell_type": "code",
   "execution_count": 35,
   "id": "08919e17",
   "metadata": {},
   "outputs": [
    {
     "data": {
      "text/plain": [
       "array([-0.18936246,  0.54742232, -0.15928636, -0.14640949,  1.01515138,\n",
       "       -0.12586854, -0.11605877, -0.22563237, -0.14278375, -0.37375383])"
      ]
     },
     "execution_count": 35,
     "metadata": {},
     "output_type": "execute_result"
    }
   ],
   "source": [
    "x_test[0]"
   ]
  },
  {
   "cell_type": "code",
   "execution_count": 36,
   "id": "5d29fd7b",
   "metadata": {},
   "outputs": [
    {
     "data": {
      "text/plain": [
       "(10,)"
      ]
     },
     "execution_count": 36,
     "metadata": {},
     "output_type": "execute_result"
    }
   ],
   "source": [
    "x_test[0].shape"
   ]
  },
  {
   "cell_type": "code",
   "execution_count": 37,
   "id": "f828343e",
   "metadata": {},
   "outputs": [
    {
     "data": {
      "text/plain": [
       "10"
      ]
     },
     "execution_count": 37,
     "metadata": {},
     "output_type": "execute_result"
    }
   ],
   "source": [
    "x_test[0].shape[-1]"
   ]
  },
  {
   "cell_type": "code",
   "execution_count": 38,
   "id": "734a5aae",
   "metadata": {},
   "outputs": [],
   "source": [
    "a = x_test[0].reshape(1, -1)"
   ]
  },
  {
   "cell_type": "code",
   "execution_count": 39,
   "id": "4566c572",
   "metadata": {},
   "outputs": [
    {
     "data": {
      "text/plain": [
       "(1, 10)"
      ]
     },
     "execution_count": 39,
     "metadata": {},
     "output_type": "execute_result"
    }
   ],
   "source": [
    "a.shape"
   ]
  },
  {
   "cell_type": "code",
   "execution_count": 40,
   "id": "21002ffe",
   "metadata": {},
   "outputs": [
    {
     "data": {
      "text/plain": [
       "array([1])"
      ]
     },
     "execution_count": 40,
     "metadata": {},
     "output_type": "execute_result"
    }
   ],
   "source": [
    "pickle_model.predict(a)"
   ]
  },
  {
   "cell_type": "code",
   "execution_count": null,
   "id": "dcf71e05",
   "metadata": {},
   "outputs": [],
   "source": []
  }
 ],
 "metadata": {
  "kernelspec": {
   "display_name": "Python 3 (ipykernel)",
   "language": "python",
   "name": "python3"
  },
  "language_info": {
   "codemirror_mode": {
    "name": "ipython",
    "version": 3
   },
   "file_extension": ".py",
   "mimetype": "text/x-python",
   "name": "python",
   "nbconvert_exporter": "python",
   "pygments_lexer": "ipython3",
   "version": "3.11.5"
  },
  "papermill": {
   "default_parameters": {},
   "duration": 135.347355,
   "end_time": "2022-08-30T13:03:47.595658",
   "environment_variables": {},
   "exception": null,
   "input_path": "__notebook__.ipynb",
   "output_path": "__notebook__.ipynb",
   "parameters": {},
   "start_time": "2022-08-30T13:01:32.248303",
   "version": "2.3.4"
  }
 },
 "nbformat": 4,
 "nbformat_minor": 5
}
